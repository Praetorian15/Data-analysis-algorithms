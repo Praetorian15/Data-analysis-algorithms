{
 "cells": [
  {
   "cell_type": "markdown",
   "metadata": {},
   "source": [
    "# Урок 2. Масштабирование признаков. Регуляризация. Стохастический градиентный спуск."
   ]
  },
  {
   "cell_type": "markdown",
   "metadata": {
    "toc": true
   },
   "source": [
    "<h1>План урока<span class=\"tocSkip\"></span></h1>\n",
    "<div class=\"toc\"><ul class=\"toc-item\"><li><span><a href=\"#Масштабирование-признаков\" data-toc-modified-id=\"Масштабирование-признаков-1\">Масштабирование признаков</a></span><ul class=\"toc-item\"><li><span><a href=\"#Нормализация-[0,-1]\" data-toc-modified-id=\"Нормализация-[0,-1]-1.1\">Нормализация [0, 1]</a></span></li><li><span><a href=\"#Стандартизация\" data-toc-modified-id=\"Стандартизация-1.2\">Стандартизация</a></span></li></ul></li><li><span><a href=\"#Стохастический-градиентный-спуск-(Stochastic-Gradient-Descent,-SGD)\" data-toc-modified-id=\"Стохастический-градиентный-спуск-(Stochastic-Gradient-Descent,-SGD)-2\">Стохастический градиентный спуск (Stochastic Gradient Descent, SGD)</a></span></li><li><span><a href=\"#Регуляризация\" data-toc-modified-id=\"Регуляризация-3\">Регуляризация</a></span><ul class=\"toc-item\"><li><span><a href=\"#L1-регуляризация---Lasso\" data-toc-modified-id=\"L1-регуляризация---Lasso-3.1\">L1 регуляризация - Lasso</a></span></li><li><span><a href=\"#L2-регуляризация---Ridge\" data-toc-modified-id=\"L2-регуляризация---Ridge-3.2\">L2 регуляризация - Ridge</a></span></li></ul></li><li><span><a href=\"#Домашние-задания\" data-toc-modified-id=\"Домашние-задания-4\">Домашние задания</a></span></li></ul></div>"
   ]
  },
  {
   "cell_type": "markdown",
   "metadata": {},
   "source": [
    "## Домашние задания"
   ]
  },
  {
   "cell_type": "markdown",
   "metadata": {},
   "source": [
    "1. Сгенерировать датасет при помощи `sklearn.datasets.make_regression` и обучить линейную модель при помощи градиентного спуска и стохастического градиентного спуска. Построить графики среднеквадратичной ошибки от числа итераций для обоих методов на одном рисунке, сделать выводы о разнице скорости сходимости каждого из методов.\n",
    "\n",
    "2. Модифицировать решение первого задания путем добавления L2 регуляризации и сравнить результаты.  \n",
    "3. [\\*] Модернизировать решение задания 2, заменив L2 регуляризацию на L1 регуляризацию.\n",
    "4. [\\*] Построить график изменения весов от числа итераций при GD и SGD (на одном рисунке).\n",
    "5. [\\*] Построить график изменения весов для L1 и L2 регуляризации от коэффициента регуляризации."
   ]
  },
  {
   "cell_type": "code",
   "execution_count": 1,
   "metadata": {},
   "outputs": [],
   "source": [
    "import numpy as np\n",
    "import matplotlib.pyplot as plt\n",
    "plt.rcParams.update({'font.size': 14,\n",
    "                     'xtick.labelsize': 14})"
   ]
  },
  {
   "cell_type": "code",
   "execution_count": 2,
   "metadata": {},
   "outputs": [],
   "source": [
    "from sklearn import datasets\n",
    "\n",
    "X_hw, y_hw, coef_hw = datasets.make_regression(n_samples=100, \n",
    "                                      n_features=2, \n",
    "                                      n_informative=2, \n",
    "                                      n_targets=1,\n",
    "                                      noise=5, \n",
    "                                      coef=True, \n",
    "                                      random_state=42)"
   ]
  },
  {
   "cell_type": "code",
   "execution_count": 3,
   "metadata": {},
   "outputs": [],
   "source": [
    "def calc_mse(y, y_pred):\n",
    "    err = np.mean((y - y_pred)**2)\n",
    "    return err\n",
    "\n",
    "\n",
    "# Метод градиентного спуска\n",
    "def eval_GD(X, y, iterations, alpha=1e-4):\n",
    "    global errors_gd\n",
    "    errors_gd = []\n",
    "    np.random.seed(42)\n",
    "    w = np.random.randn(X.shape[1])\n",
    "    n = X.shape[0]\n",
    "    for i in range(1, iterations + 1):\n",
    "        y_pred = np.dot(X, w)\n",
    "        err = calc_mse(y, y_pred)\n",
    "        errors_gd.append(err)\n",
    "        w -= alpha * (1/n * 2 * np.dot((y_pred - y), X))\n",
    "        if i % (iterations / 10) == 0:\n",
    "            print(i, w, err)\n",
    "    return w\n",
    "\n",
    "# mini-batch GD & SGD\n",
    "def eval_SGD(X, y, iterations, qty_in_batch=1, alpha=1e-4):\n",
    "    global errors_SGD\n",
    "    errors_SGD = []\n",
    "    np.random.seed(42)\n",
    "    w = np.random.randn(X.shape[1]) # начальное приближение весов\n",
    "    n = X.shape[0] # число наблюдений\n",
    "    n_batch = n // qty_in_batch\n",
    "    if n % qty_in_batch != 0:\n",
    "        n_batch += 1\n",
    "    # print(n_batch)\n",
    "    for i in range(1, iterations + 1):\n",
    "        for b in range(n_batch):\n",
    "            start_ = qty_in_batch * b\n",
    "            end_ = qty_in_batch * (b + 1)\n",
    "            X_tmp = X[start_ : end_, :]\n",
    "            y_tmp = y[start_ : end_]\n",
    "            y_pred_tmp = np.dot(X_tmp, w)\n",
    "            err = calc_mse(y_tmp, y_pred_tmp)\n",
    "            w -= alpha * (1/n * 2 * np.dot((y_pred_tmp - y_tmp), X_tmp))\n",
    "        errors_SGD.append(err)\n",
    "        if i % (iterations / 10) == 0:\n",
    "            print(i, w, err)\n",
    "    return w"
   ]
  },
  {
   "cell_type": "code",
   "execution_count": 4,
   "metadata": {},
   "outputs": [
    {
     "name": "stdout",
     "output_type": "stream",
     "text": [
      "500 [46.36467841 47.3474649 ] 1379.9256388746626\n",
      "1000 [67.78995082 64.55274527] 251.07871647419913\n",
      "1500 [77.8472664  70.73899205] 66.47659957000421\n",
      "2000 [82.58707718 72.93994728] 34.92150011069565\n",
      "2500 [84.82794986 73.71148825] 29.68686021533674\n",
      "3000 [85.89005392 73.9762054 ] 29.056758378751873\n",
      "3500 [86.39446091 74.0641222 ] 29.14099520110618\n",
      "4000 [86.6343857  74.09181676] 29.26563147541621\n",
      "4500 [86.74864789 74.0997372 ] 29.34450587276518\n",
      "5000 [86.80311662 74.10154974] 29.3867712280645\n"
     ]
    },
    {
     "data": {
      "text/plain": [
       "array([86.80311662, 74.10154974])"
      ]
     },
     "execution_count": 4,
     "metadata": {},
     "output_type": "execute_result"
    }
   ],
   "source": [
    "eval_SGD(X_hw, y_hw, iterations=5000, qty_in_batch=70, alpha=1e-3)"
   ]
  },
  {
   "cell_type": "code",
   "execution_count": 5,
   "metadata": {},
   "outputs": [
    {
     "name": "stdout",
     "output_type": "stream",
     "text": [
      "500 [46.37018753 47.35986021] 2005.0042337479472\n",
      "1000 [67.79518742 64.56171984] 396.9953819052217\n",
      "1500 [77.85102704 70.74382298] 101.46623169148228\n",
      "2000 [82.58949571 72.94222593] 43.808816497014185\n",
      "2500 [84.82942151 73.71246967] 31.987839881983213\n",
      "3000 [85.8909253  73.97658891] 29.47208109986517\n",
      "3500 [86.39497365 74.06424737] 28.922529471951574\n",
      "4000 [86.63469213 74.09183593] 28.800393431749722\n",
      "4500 [86.74883874 74.09971501] 28.772948227344685\n",
      "5000 [86.80324399 74.10151231] 28.76673843961773\n"
     ]
    },
    {
     "data": {
      "text/plain": [
       "array([86.80324399, 74.10151231])"
      ]
     },
     "execution_count": 5,
     "metadata": {},
     "output_type": "execute_result"
    }
   ],
   "source": [
    "eval_GD(X_hw, y_hw, iterations=5000, alpha=1e-3)"
   ]
  },
  {
   "cell_type": "code",
   "execution_count": 6,
   "metadata": {},
   "outputs": [
    {
     "data": {
      "text/plain": [
       "<matplotlib.legend.Legend at 0x24c20048880>"
      ]
     },
     "execution_count": 6,
     "metadata": {},
     "output_type": "execute_result"
    },
    {
     "data": {
      "image/png": "[encoded data removed]",
      "text/plain": [
       "<Figure size 432x288 with 1 Axes>"
      ]
     },
     "metadata": {
      "needs_background": "light"
     },
     "output_type": "display_data"
    }
   ],
   "source": [
    "plt.plot(range(len(errors_gd)), errors_gd, label='GD')\n",
    "plt.plot(range(len(errors_SGD)), errors_SGD, label='SGD')\n",
    "plt.title('MSE')\n",
    "plt.xlabel('Iteration number')\n",
    "plt.ylabel('MSE')\n",
    "plt.legend()"
   ]
  },
  {
   "cell_type": "markdown",
   "metadata": {},
   "source": [
    "Вывод: Стохастический градиентный спуск сходится немного быстрее чем обычный."
   ]
  },
  {
   "cell_type": "markdown",
   "metadata": {},
   "source": [
    "#### 2.Модифицировать решение первого задания путем добавления L2 регуляризации и сравнить результаты."
   ]
  },
  {
   "cell_type": "code",
   "execution_count": 7,
   "metadata": {},
   "outputs": [],
   "source": [
    "def eval_model_reg2(X, y, iterations, alpha=1e-3, lambda_=1e-2):\n",
    "    global errors_gd_reg2\n",
    "    errors_gd_reg2 = []\n",
    "    np.random.seed(42)\n",
    "    w = np.random.randn(X.shape[1])\n",
    "    n = X.shape[0]\n",
    "    for i in range(1, iterations + 1):\n",
    "        y_pred = np.dot(X, w)\n",
    "        err = calc_mse(y, y_pred)\n",
    "        errors_gd_reg2.append(err)\n",
    "        w -= alpha * (1/n * 2 * np.dot((y_pred - y), X) + 2 * lambda_ * w)\n",
    "        if i % (iterations / 10) == 0:\n",
    "            print(i, w, err)\n",
    "    return w\n",
    "\n",
    "def eval_SGD_reg2(X, y, iterations, qty_in_batch=1, alpha=1e-3, lambda_=1e-2):\n",
    "    global errors_SGD_reg2\n",
    "    errors_SGD_reg2 = []\n",
    "    np.random.seed(42)\n",
    "    w = np.random.randn(X.shape[1]) # начальное приближение весов\n",
    "    n = X.shape[0] # число наблюдений\n",
    "    n_batch = n // qty_in_batch\n",
    "    if n % qty_in_batch != 0:\n",
    "        n_batch += 1\n",
    "    # print(n_batch)\n",
    "    for i in range(1, iterations + 1):\n",
    "        for b in range(n_batch):\n",
    "            start_ = qty_in_batch * b\n",
    "            end_ = qty_in_batch * (b + 1)\n",
    "            X_tmp = X[start_ : end_, :]\n",
    "            y_tmp = y[start_ : end_]\n",
    "            y_pred_tmp = np.dot(X_tmp, w)\n",
    "            err = calc_mse(y_tmp, y_pred_tmp)\n",
    "            w -= alpha * (1/n * 2 * np.dot((y_pred_tmp - y_tmp), X_tmp) + 2 * lambda_ * w)\n",
    "        errors_SGD_reg2.append(err)\n",
    "        if i % (iterations / 10) == 0:\n",
    "            print(i, w, err)\n",
    "    return w"
   ]
  },
  {
   "cell_type": "code",
   "execution_count": 8,
   "metadata": {},
   "outputs": [
    {
     "name": "stdout",
     "output_type": "stream",
     "text": [
      "500 [46.16700908 47.16336948] 2028.2290961272229\n",
      "1000 [67.28441822 64.12339886] 420.6860567654302\n",
      "1500 [77.09706962 70.15788137] 116.55458345564682\n",
      "2000 [81.67484812 72.2824228 ] 52.35533546353272\n",
      "2500 [83.81724304 73.01938041] 36.903256128126806\n",
      "3000 [84.82240701 73.26957299] 32.58015167976583\n",
      "3500 [85.29494559 73.35178485] 31.17067311622033\n",
      "4000 [85.51743868 73.37740303] 30.647034405002955\n",
      "4500 [85.62232723 73.38464742] 30.433396511461225\n",
      "5000 [85.67182163 73.38628406] 30.34093237289937\n"
     ]
    },
    {
     "data": {
      "text/plain": [
       "array([85.67182163, 73.38628406])"
      ]
     },
     "execution_count": 8,
     "metadata": {},
     "output_type": "execute_result"
    }
   ],
   "source": [
    "eval_model_reg2(X_hw, y_hw, iterations=5000, alpha=1e-3, lambda_=1e-2)"
   ]
  },
  {
   "cell_type": "code",
   "execution_count": 9,
   "metadata": {},
   "outputs": [
    {
     "name": "stdout",
     "output_type": "stream",
     "text": [
      "500 [31.05916846 32.41834198] 1797.0494921777477\n",
      "1000 [36.30972067 36.76335114] 1416.009746014281\n",
      "1500 [37.21630212 37.33897011] 1364.8772336046943\n",
      "2000 [37.37347262 37.41445874] 1357.5081113163899\n",
      "2500 [37.40080925 37.42421919] 1356.4224687020062\n",
      "3000 [37.40557619 37.42545564] 1356.2600102174517\n",
      "3500 [37.40640914 37.42560753] 1356.2353191156392\n",
      "4000 [37.40655492 37.42562529] 1356.2315060381836\n",
      "4500 [37.40658047 37.42562719] 1356.2309076400988\n",
      "5000 [37.40658495 37.42562735] 1356.2308122473041\n"
     ]
    },
    {
     "data": {
      "text/plain": [
       "array([37.40658495, 37.42562735])"
      ]
     },
     "execution_count": 9,
     "metadata": {},
     "output_type": "execute_result"
    }
   ],
   "source": [
    "eval_SGD_reg2(X_hw, y_hw, iterations=5000, alpha=1e-3, lambda_=1e-2)"
   ]
  },
  {
   "cell_type": "code",
   "execution_count": 10,
   "metadata": {},
   "outputs": [
    {
     "data": {
      "text/plain": [
       "<matplotlib.legend.Legend at 0x24c213b6880>"
      ]
     },
     "execution_count": 10,
     "metadata": {},
     "output_type": "execute_result"
    },
    {
     "data": {
      "image/png": "[encoded data removed]",
      "text/plain": [
       "<Figure size 432x288 with 1 Axes>"
      ]
     },
     "metadata": {
      "needs_background": "light"
     },
     "output_type": "display_data"
    }
   ],
   "source": [
    "plt.plot(range(len(errors_gd_reg2)), errors_gd_reg2, label='GD_reg2')\n",
    "plt.plot(range(len(errors_SGD_reg2)), errors_SGD_reg2, label='SGD_reg2')\n",
    "plt.title('MSE')\n",
    "plt.xlabel('Iteration number')\n",
    "plt.ylabel('MSE')\n",
    "plt.legend()"
   ]
  },
  {
   "cell_type": "markdown",
   "metadata": {},
   "source": [
    "Судя по всему L-2 регуляризация сильно влияет на стохастический градиентный спуск, а вот на обычный влияние существенно меньше"
   ]
  },
  {
   "cell_type": "markdown",
   "metadata": {},
   "source": [
    "#### 3.[*] Модернизировать решение задания 2, заменив L2 регуляризацию на L1 регуляризацию."
   ]
  },
  {
   "cell_type": "code",
   "execution_count": 11,
   "metadata": {},
   "outputs": [],
   "source": [
    "def eval_model_reg1(X, y, iterations, alpha=1e-3, lambda_=1e-2):\n",
    "    global errors_gd_reg1\n",
    "    errors_gd_reg1 = []\n",
    "    np.random.seed(42)\n",
    "    w = np.random.randn(X.shape[1])\n",
    "    n = X.shape[0]\n",
    "    for i in range(1, iterations + 1):\n",
    "        y_pred = np.dot(X, w)\n",
    "        err = calc_mse(y, y_pred)\n",
    "        errors_gd_reg1.append(err)\n",
    "        w -= alpha * (1/n * 2 * np.dot((y_pred - y), X) + (w / abs(w)))\n",
    "        if i % (iterations / 10) == 0:\n",
    "            print(i, w, err)\n",
    "    return w\n",
    "\n",
    "def eval_SGD_reg1(X, y, iterations, qty_in_batch=1, alpha=1e-3, lambda_=1e-2):\n",
    "    global errors_SGD_reg1\n",
    "    errors_SGD_reg1 = []\n",
    "    np.random.seed(42)\n",
    "    w = np.random.randn(X.shape[1]) # начальное приближение весов\n",
    "    n = X.shape[0] # число наблюдений\n",
    "    n_batch = n // qty_in_batch\n",
    "    if n % qty_in_batch != 0:\n",
    "        n_batch += 1\n",
    "    # print(n_batch)\n",
    "    for i in range(1, iterations + 1):\n",
    "        for b in range(n_batch):\n",
    "            start_ = qty_in_batch * b\n",
    "            end_ = qty_in_batch * (b + 1)\n",
    "            X_tmp = X[start_ : end_, :]\n",
    "            y_tmp = y[start_ : end_]\n",
    "            y_pred_tmp = np.dot(X_tmp, w)\n",
    "            err = calc_mse(y_tmp, y_pred_tmp)\n",
    "            w -= alpha * (1/n * 2 * np.dot((y_pred_tmp - y_tmp), X_tmp) + (w / abs(w)))\n",
    "        errors_SGD_reg1.append(err)\n",
    "        if i % (iterations / 10) == 0:\n",
    "            print(i, w, err)\n",
    "    return w"
   ]
  },
  {
   "cell_type": "code",
   "execution_count": 12,
   "metadata": {},
   "outputs": [
    {
     "name": "stdout",
     "output_type": "stream",
     "text": [
      "500 [46.01992379 47.04623405] 2043.803046434594\n",
      "1000 [67.2808682  64.13423587] 420.58220390207794\n",
      "1500 [77.2595312  70.27564066] 113.24368772931102\n",
      "2000 [81.96156614 72.45967979] 49.54763380133101\n",
      "2500 [84.18424413 73.22494521] 34.91192466188165\n",
      "3000 [85.23756473 73.48738484] 31.116492388400687\n",
      "3500 [85.73772381 73.57450005] 29.987122491796598\n",
      "4000 [85.97559128 73.60192523] 29.60114756922795\n",
      "4500 [86.08885601 73.60976192] 29.452833781001903\n",
      "5000 [86.14284074 73.61155221] 29.39085842771086\n"
     ]
    },
    {
     "data": {
      "text/plain": [
       "array([86.14284074, 73.61155221])"
      ]
     },
     "execution_count": 12,
     "metadata": {},
     "output_type": "execute_result"
    }
   ],
   "source": [
    "eval_model_reg1(X_hw, y_hw, iterations=5000, alpha=1e-3, lambda_=1e-2)"
   ]
  },
  {
   "cell_type": "code",
   "execution_count": 13,
   "metadata": {},
   "outputs": [
    {
     "name": "stdout",
     "output_type": "stream",
     "text": [
      "500 [11.33630883 15.95809122] 3646.483955403467\n",
      "1000 [16.35456393 21.79534077] 2972.2331320514413\n",
      "1500 [18.69324665 23.9176233 ] 2730.1803390695454\n",
      "2000 [19.78908121 24.68414439] 2638.573144271411\n",
      "2500 [20.30481391 24.95850867] 2602.887781943133\n",
      "3000 [20.54838923 25.05549068] 2588.7111703708547\n",
      "3500 [20.66375038 25.08916526] 2582.984437577323\n",
      "4000 [20.71850873 25.10055319] 2580.633449418075\n",
      "4500 [20.74454636 25.10424845] 2579.652504225799\n",
      "5000 [20.75694431 25.10536567] 2579.2364938909923\n"
     ]
    },
    {
     "data": {
      "text/plain": [
       "array([20.75694431, 25.10536567])"
      ]
     },
     "execution_count": 13,
     "metadata": {},
     "output_type": "execute_result"
    }
   ],
   "source": [
    "eval_SGD_reg1(X_hw, y_hw, iterations=5000, alpha=1e-3, lambda_=1e-2)"
   ]
  },
  {
   "cell_type": "code",
   "execution_count": 14,
   "metadata": {},
   "outputs": [
    {
     "data": {
      "text/plain": [
       "<matplotlib.legend.Legend at 0x24c214e2040>"
      ]
     },
     "execution_count": 14,
     "metadata": {},
     "output_type": "execute_result"
    },
    {
     "data": {
      "image/png": "[encoded data removed]",
      "text/plain": [
       "<Figure size 432x288 with 1 Axes>"
      ]
     },
     "metadata": {
      "needs_background": "light"
     },
     "output_type": "display_data"
    }
   ],
   "source": [
    "plt.plot(range(len(errors_gd_reg1)), errors_gd_reg1, label='GD_reg1')\n",
    "plt.plot(range(len(errors_SGD_reg1)), errors_SGD_reg1, label='SGD_reg1')\n",
    "plt.title('MSE')\n",
    "plt.xlabel('Iteration number')\n",
    "plt.ylabel('MSE')\n",
    "plt.legend()"
   ]
  },
  {
   "cell_type": "markdown",
   "metadata": {},
   "source": [
    "Опять, почти не увидел разницы с обычным градиентным спуском, но усилилось влияние на стохастический"
   ]
  },
  {
   "cell_type": "markdown",
   "metadata": {},
   "source": [
    "#### 4.[*] Построить график изменения весов от числа итераций при GD и SGD (на одном рисунке)."
   ]
  },
  {
   "cell_type": "code",
   "execution_count": 15,
   "metadata": {},
   "outputs": [],
   "source": [
    "# Метод градиентного спуска\n",
    "def eval_GD_w(X, y, iterations, alpha=1e-4):\n",
    "    gd_w1 = []\n",
    "    gd_w2 = []\n",
    "    np.random.seed(42)\n",
    "    w = np.random.randn(X.shape[1])\n",
    "    n = X.shape[0]\n",
    "    for i in range(1, iterations + 1):\n",
    "        y_pred = np.dot(X, w)\n",
    "        w -= alpha * (1/n * 2 * np.dot((y_pred - y), X))\n",
    "        gd_w1.append(w[0])\n",
    "        gd_w2.append(w[1])\n",
    "    return gd_w1, gd_w2\n",
    "\n",
    "# mini-batch GD & SGD\n",
    "def eval_SGD_w(X, y, iterations, qty_in_batch=1, alpha=1e-4):\n",
    "    sgd_w1 = []\n",
    "    sgd_w2 = []\n",
    "    np.random.seed(42)\n",
    "    w = np.random.randn(X.shape[1]) # начальное приближение весов\n",
    "    n = X.shape[0] # число наблюдений\n",
    "    n_batch = n // qty_in_batch\n",
    "    if n % qty_in_batch != 0:\n",
    "        n_batch += 1\n",
    "    # print(n_batch)\n",
    "    for i in range(1, iterations + 1):\n",
    "        for b in range(n_batch):\n",
    "            start_ = qty_in_batch * b\n",
    "            end_ = qty_in_batch * (b + 1)\n",
    "            X_tmp = X[start_ : end_, :]\n",
    "            y_tmp = y[start_ : end_]\n",
    "            y_pred_tmp = np.dot(X_tmp, w)\n",
    "            w -= alpha * (1/n * 2 * np.dot((y_pred_tmp - y_tmp), X_tmp))\n",
    "        sgd_w1.append(w[0])\n",
    "        sgd_w2.append(w[1])\n",
    "    return sgd_w1, sgd_w2"
   ]
  },
  {
   "cell_type": "code",
   "execution_count": 16,
   "metadata": {},
   "outputs": [],
   "source": [
    "sgd_w1, sgd_w2 = eval_SGD_w(X_hw, y_hw, iterations=1000, qty_in_batch=10, alpha=1e-3)"
   ]
  },
  {
   "cell_type": "code",
   "execution_count": 17,
   "metadata": {},
   "outputs": [],
   "source": [
    "gd_w1, gd_w2 = eval_GD_w(X_hw, y_hw, iterations=1000, alpha=1e-3)"
   ]
  },
  {
   "cell_type": "code",
   "execution_count": 18,
   "metadata": {},
   "outputs": [
    {
     "data": {
      "text/plain": [
       "<matplotlib.legend.Legend at 0x24c21519430>"
      ]
     },
     "execution_count": 18,
     "metadata": {},
     "output_type": "execute_result"
    },
    {
     "data": {
      "image/png": "[encoded data removed]",
      "text/plain": [
       "<Figure size 432x288 with 1 Axes>"
      ]
     },
     "metadata": {
      "needs_background": "light"
     },
     "output_type": "display_data"
    }
   ],
   "source": [
    "plt.plot(range(len(gd_w1)), gd_w1, label='GD_W1')\n",
    "plt.plot(range(len(gd_w2)), gd_w2, label='GD_W2')\n",
    "plt.plot(range(len(sgd_w1)), sgd_w1, label='SGD_W1')\n",
    "plt.plot(range(len(sgd_w2)), sgd_w2, label='SGD_W2')\n",
    "plt.title('')\n",
    "plt.xlabel('Iteration number')\n",
    "plt.ylabel('Weight')\n",
    "plt.legend()"
   ]
  },
  {
   "cell_type": "markdown",
   "metadata": {},
   "source": [
    "Пробовал с разными параметрами, графики совпадают для обоих методов."
   ]
  },
  {
   "cell_type": "markdown",
   "metadata": {},
   "source": [
    "#### 5. [*] Построить график изменения весов для L1 и L2 регуляризации от коэффициента регуляризации"
   ]
  },
  {
   "cell_type": "markdown",
   "metadata": {},
   "source": [
    "За основу возьму стохастический гардиентный спуск"
   ]
  },
  {
   "cell_type": "code",
   "execution_count": 19,
   "metadata": {},
   "outputs": [],
   "source": [
    "def eval_SGD_reg2_w(X, y, iterations, qty_in_batch=1, alpha=1e-3):\n",
    "    w1_reg2 = []\n",
    "    w2_reg2 = []\n",
    "    lambda_reg2 = []\n",
    "    np.random.seed(42)\n",
    "    w = np.random.randn(X.shape[1]) # начальное приближение весов\n",
    "    n = X.shape[0] # число наблюдений\n",
    "    n_batch = n // qty_in_batch\n",
    "    if n % qty_in_batch != 0:\n",
    "        n_batch += 1\n",
    "    for j in range(0, 3):\n",
    "        lambda_ = 10 ** - j\n",
    "        for i in range(1, iterations + 1):\n",
    "            for b in range(n_batch):\n",
    "                start_ = qty_in_batch * b\n",
    "                end_ = qty_in_batch * (b + 1)\n",
    "                X_tmp = X[start_ : end_, :]\n",
    "                y_tmp = y[start_ : end_]\n",
    "                y_pred_tmp = np.dot(X_tmp, w)\n",
    "                err = calc_mse(y_tmp, y_pred_tmp)\n",
    "                w -= alpha * (1/n * 2 * np.dot((y_pred_tmp - y_tmp), X_tmp) + 2 * lambda_ * w)\n",
    "        w1_reg2.append(w[0])\n",
    "        w2_reg2.append(w[1])\n",
    "        lambda_reg2.append(lambda_)\n",
    "    return w1_reg2, w2_reg2, lambda_reg2\n",
    "\n",
    "\n",
    "def eval_SGD_reg1_w(X, y, iterations, qty_in_batch=1, alpha=1e-3):\n",
    "    w1_reg1 = []\n",
    "    w2_reg1 = []\n",
    "    lambda_reg1 = []\n",
    "    np.random.seed(42)\n",
    "    w = np.random.randn(X.shape[1]) # начальное приближение весов\n",
    "    n = X.shape[0] # число наблюдений\n",
    "    n_batch = n // qty_in_batch\n",
    "    if n % qty_in_batch != 0:\n",
    "        n_batch += 1\n",
    "    for j in range(0, 3):\n",
    "        lambda_ = 10 ** (-j) \n",
    "        for i in range(1, iterations + 1):\n",
    "            for b in range(n_batch):\n",
    "                start_ = qty_in_batch * b\n",
    "                end_ = qty_in_batch * (b + 1)\n",
    "                X_tmp = X[start_ : end_, :]\n",
    "                y_tmp = y[start_ : end_]\n",
    "                y_pred_tmp = np.dot(X_tmp, w)\n",
    "                err = calc_mse(y_tmp, y_pred_tmp)\n",
    "                w -= alpha * (1/n * 2 * np.dot((y_pred_tmp - y_tmp), X_tmp) + (w / abs(w)))\n",
    "        w1_reg1.append(w[0])\n",
    "        w2_reg1.append(w[1])\n",
    "        lambda_reg1.append(lambda_)\n",
    "    return w1_reg1, w2_reg1, lambda_reg1"
   ]
  },
  {
   "cell_type": "code",
   "execution_count": 20,
   "metadata": {},
   "outputs": [],
   "source": [
    "W1_REG1, W2_REG1, lambda_reg1 = eval_SGD_reg1_w(X_hw, y_hw, 2000, qty_in_batch=70, alpha=1e-3)\n",
    "W1_REG2, W2_REG2, lambda_reg2 = eval_SGD_reg2_w(X_hw, y_hw, 2000, qty_in_batch=70, alpha=1e-3)"
   ]
  },
  {
   "cell_type": "code",
   "execution_count": 22,
   "metadata": {},
   "outputs": [
    {
     "data": {
      "text/plain": [
       "<matplotlib.legend.Legend at 0x24c216c6c70>"
      ]
     },
     "execution_count": 22,
     "metadata": {},
     "output_type": "execute_result"
    },
    {
     "data": {
      "image/png": "[encoded data removed]",
      "text/plain": [
       "<Figure size 432x288 with 1 Axes>"
      ]
     },
     "metadata": {
      "needs_background": "light"
     },
     "output_type": "display_data"
    }
   ],
   "source": [
    "plt.plot(lambda_reg1, W1_REG1, label='W1_reg1')\n",
    "plt.plot(lambda_reg1, W2_REG1, label='W2_reg1')\n",
    "plt.plot(lambda_reg2, W1_REG2, label='W1_reg2')\n",
    "plt.plot(lambda_reg2, W2_REG2, label='W2_reg2')\n",
    "plt.xlabel('Lambda')\n",
    "plt.ylabel('Weight')\n",
    "plt.legend()"
   ]
  },
  {
   "cell_type": "markdown",
   "metadata": {},
   "source": [
    "По графику очевидно, что l2 регуляризация с ростом штрафует веса намного сильнее, чем l1"
   ]
  }
 ],
 "metadata": {
  "colab": {
   "collapsed_sections": [],
   "name": "Lesson2.ipynb",
   "provenance": []
  },
  "kernelspec": {
   "display_name": "Python 3",
   "language": "python",
   "name": "python3"
  },
  "language_info": {
   "codemirror_mode": {
    "name": "ipython",
    "version": 3
   },
   "file_extension": ".py",
   "mimetype": "text/x-python",
   "name": "python",
   "nbconvert_exporter": "python",
   "pygments_lexer": "ipython3",
   "version": "3.8.5"
  },
  "toc": {
   "base_numbering": 1,
   "nav_menu": {},
   "number_sections": false,
   "sideBar": true,
   "skip_h1_title": true,
   "title_cell": "План урока",
   "title_sidebar": "План",
   "toc_cell": true,
   "toc_position": {
    "height": "calc(100% - 180px)",
    "left": "10px",
    "top": "150px",
    "width": "165px"
   },
   "toc_section_display": true,
   "toc_window_display": false
  }
 },
 "nbformat": 4,
 "nbformat_minor": 1
}
